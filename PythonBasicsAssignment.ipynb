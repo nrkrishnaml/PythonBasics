{
 "cells": [
  {
   "cell_type": "code",
   "execution_count": 14,
   "id": "77292ca3-64ba-4e4e-b728-f672edf8eee5",
   "metadata": {},
   "outputs": [
    {
     "name": "stdout",
     "output_type": "stream",
     "text": [
      "value of x= 7\n",
      "value of y=  10\n"
     ]
    }
   ],
   "source": [
    "#1.Swapping values of two variables.\n",
    "\n",
    "x=10 \n",
    "    \n",
    "y=7\n",
    "   \n",
    "      # In Python we can swap variables without temporary variable using tuple swap\n",
    "x , y = y, x \n",
    "    \n",
    "print (\"value of x=\" ,x)\n",
    "print(\"value of y= \" ,y)"
   ]
  },
  {
   "cell_type": "code",
   "execution_count": 4,
   "id": "e3a03832-6402-47b2-90c7-18ede3cddd6c",
   "metadata": {},
   "outputs": [
    {
     "data": {
      "text/plain": [
       "(7, 10)"
      ]
     },
     "execution_count": 4,
     "metadata": {},
     "output_type": "execute_result"
    }
   ],
   "source": [
    "x , y"
   ]
  },
  {
   "cell_type": "code",
   "execution_count": 13,
   "id": "334f7bd6-0863-4ba4-bd98-9465d3474085",
   "metadata": {},
   "outputs": [
    {
     "name": "stdin",
     "output_type": "stream",
     "text": [
      "Please enter the Width of a Rectangle:  10\n",
      "Please enter the Length of a Rectangle:  25\n"
     ]
    },
    {
     "name": "stdout",
     "output_type": "stream",
     "text": [
      "area of rectangle is  250.0\n"
     ]
    }
   ],
   "source": [
    "#2.Caluculate the area of a rectangle\n",
    "\n",
    "\n",
    "width = float(input('Please enter the Width of a Rectangle: '))\n",
    "length= float(input('Please enter the Length of a Rectangle: '))\n",
    "\n",
    "# formula for area of rectangle is area = length*width\n",
    "\n",
    "A= (length * width)\n",
    "\n",
    "print(\"area of rectangle is \", A)\n",
    "\n"
   ]
  },
  {
   "cell_type": "code",
   "execution_count": 19,
   "id": "ace1f9f4-883e-42d7-8d3e-ba9fde213cf8",
   "metadata": {},
   "outputs": [
    {
     "name": "stdin",
     "output_type": "stream",
     "text": [
      "please enter the temperature in celcius : 25\n"
     ]
    },
    {
     "name": "stdout",
     "output_type": "stream",
     "text": [
      "25.00 Celsius is equivalent to: 77.00 Fahrenheit\n"
     ]
    }
   ],
   "source": [
    "#3. Converting temperature from celius to faranhiet\n",
    "\n",
    "Celius_temp = float(input(\"please enter the temperature in celcius :\" ))\n",
    "\n",
    "# converting temperature from celcius to faranhiet.\n",
    "                           \n",
    "Faranhiet_temp = (Celius_temp * 9/5) + 32\n",
    "\n",
    "print('%.2f Celsius is equivalent to: %.2f Fahrenheit'\n",
    "      % (Celius_temp,Faranhiet_temp ))"
   ]
  },
  {
   "cell_type": "code",
   "execution_count": 16,
   "id": "b5ebdc67-26f1-400d-a9f0-439234450b41",
   "metadata": {},
   "outputs": [
    {
     "name": "stdin",
     "output_type": "stream",
     "text": [
      "Enter the string:  Hello Motto\n"
     ]
    },
    {
     "name": "stdout",
     "output_type": "stream",
     "text": [
      "length of the string is :  11\n"
     ]
    }
   ],
   "source": [
    "#4.Write a python program that takes string as input and print the length of string\n",
    "\n",
    "in_str = input('Enter the string: ')\n",
    "\n",
    "# to caluculate length  of string in python , we use len() function\n",
    "\n",
    "len_str = len(in_str)\n",
    "\n",
    "print(\"length of the string is : \", len_str)\n",
    "\n"
   ]
  },
  {
   "cell_type": "code",
   "execution_count": 15,
   "id": "5da79a1e-6628-425d-8049-1cee1abef1dd",
   "metadata": {},
   "outputs": [
    {
     "name": "stdin",
     "output_type": "stream",
     "text": [
      "Enter the Sentence : Alpha Numeric\n"
     ]
    },
    {
     "name": "stdout",
     "output_type": "stream",
     "text": [
      "The number of vowels in sentence is: 5\n"
     ]
    }
   ],
   "source": [
    "#5. create a program that takes sentence from user and count the number of vowels(a,e,i,o,u) in the string\n",
    "\n",
    "S = input(\"Enter the Sentence :\")\n",
    "vowels_count = 0\n",
    "find_vowel = S.lower()\n",
    "for i in find_vowel:    \n",
    "    if i in \"aeiou\":\n",
    "        vowels_count += 1\n",
    "print(\"The number of vowels in sentence is:\",vowels_count)"
   ]
  },
  {
   "cell_type": "code",
   "execution_count": 4,
   "id": "ff200b36-9e92-409f-88df-338409047dd6",
   "metadata": {},
   "outputs": [
    {
     "name": "stdin",
     "output_type": "stream",
     "text": [
      "Enter the Statement Data Science\n"
     ]
    },
    {
     "name": "stdout",
     "output_type": "stream",
     "text": [
      " Reversed statement is  ecneicS ataD\n"
     ]
    }
   ],
   "source": [
    "#6.Given a string,reverse the orders of using string slicing and print the reverse string\n",
    "\n",
    "Sentence = input(\"Enter the Statement\")\n",
    "\n",
    "reverse_string = Sentence[: : -1]\n",
    "\n",
    "print(\" Reversed statement is \" , reverse_string)\n"
   ]
  },
  {
   "cell_type": "code",
   "execution_count": 6,
   "id": "8587ea55-360f-4edf-9de7-9115742ec063",
   "metadata": {},
   "outputs": [
    {
     "name": "stdin",
     "output_type": "stream",
     "text": [
      " Please enter your statement civic\n"
     ]
    },
    {
     "name": "stdout",
     "output_type": "stream",
     "text": [
      "civic  word is a palindrome\n"
     ]
    }
   ],
   "source": [
    "#7.Write a program that takes string as input and check if it is a palindrome.\n",
    "\n",
    "Statement = input(\" Please enter your statement\")\n",
    "\n",
    "Reverse_string = Statement[: : -1]\n",
    "\n",
    "if Statement == Reverse_string :\n",
    "\n",
    "    print(Statement , \" word is a palindrome\")\n",
    "    \n",
    "else :\n",
    "\n",
    "    print(Statement , \"word is not a palindrome\")"
   ]
  },
  {
   "cell_type": "code",
   "execution_count": 17,
   "id": "0968f9ff-5dc8-4903-aa53-c91151f86d54",
   "metadata": {},
   "outputs": [
    {
     "name": "stdin",
     "output_type": "stream",
     "text": [
      "Please enter the statement H e l l o\n"
     ]
    },
    {
     "name": "stdout",
     "output_type": "stream",
     "text": [
      " the modified string is  Hello\n"
     ]
    }
   ],
   "source": [
    "#8.Create a program that takes string as input and remove all the spaces from it and print the modified reverse string\n",
    "\n",
    "String1 = input(\"Please enter the statement\")\n",
    "\n",
    "Modified_String = String1.replace(\" \",\"\") \n",
    "\n",
    "print(\" the modified string is \", Modified_String)"
   ]
  },
  {
   "cell_type": "code",
   "execution_count": null,
   "id": "f87f65f0-87b5-4729-8a29-11ee0d909229",
   "metadata": {},
   "outputs": [],
   "source": []
  }
 ],
 "metadata": {
  "kernelspec": {
   "display_name": "Python 3 (ipykernel)",
   "language": "python",
   "name": "python3"
  },
  "language_info": {
   "codemirror_mode": {
    "name": "ipython",
    "version": 3
   },
   "file_extension": ".py",
   "mimetype": "text/x-python",
   "name": "python",
   "nbconvert_exporter": "python",
   "pygments_lexer": "ipython3",
   "version": "3.10.8"
  }
 },
 "nbformat": 4,
 "nbformat_minor": 5
}
